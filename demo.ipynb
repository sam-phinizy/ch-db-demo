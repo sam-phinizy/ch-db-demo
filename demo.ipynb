{
 "cells": [
  {
   "cell_type": "code",
   "execution_count": 18,
   "metadata": {},
   "outputs": [],
   "source": [
    "import chdb\n",
    "import time\n"
   ]
  },
  {
   "cell_type": "markdown",
   "metadata": {},
   "source": [
    "# Instructions\n",
    "1. Init project: `uv sync`\n",
    "2. Generate data: `uv run python generator.py`\n",
    "\n",
    "Generating 12 months of data will get you roughly 27,079,811 bytes (354.9 MB on disk) for 139,001 items in your `ecommerce_data` directory\n",
    "\n",
    "\n"
   ]
  },
  {
   "cell_type": "code",
   "execution_count": 19,
   "metadata": {},
   "outputs": [
    {
     "data": {
      "text/plain": [
       "\"event_time\",\"Nullable(DateTime)\"\n",
       "\"timestamp\",\"Nullable(DateTime)\"\n",
       "\"product_id\",\"Nullable(String)\"\n",
       "\"product_name\",\"Nullable(String)\"\n",
       "\"category\",\"Nullable(String)\"\n",
       "\"quantity_sold\",\"Nullable(Int64)\"\n",
       "\"unit_price\",\"Nullable(Float64)\"\n",
       "\"total_revenue\",\"Nullable(Float64)\"\n",
       "\"weekday\",\"Nullable(String)\"\n",
       "\"is_weekend\",\"Nullable(Bool)\"\n",
       "\"hour\",\"Nullable(Int64)\""
      ]
     },
     "execution_count": 19,
     "metadata": {},
     "output_type": "execute_result"
    }
   ],
   "source": [
    "data_dir = \"ecommerce_data/**/*.json\"\n",
    "\n",
    "data_loc = f\"file('{data_dir}','JSONLines')\"\n",
    "\n",
    "# This describes the data in the directory\n",
    "chdb.query(f\"DESCRIBE {data_loc} SETTINGS describe_compact_output=1\")\n",
    "\n"
   ]
  },
  {
   "cell_type": "code",
   "execution_count": 20,
   "metadata": {},
   "outputs": [
    {
     "data": {
      "text/plain": [
       "\"Secured responsive Graphical User Interface\"\n",
       "\"Down-sized didactic algorithm\"\n",
       "\"Configurable radical forecast\"\n",
       "\"Progressive user-facing analyzer\"\n",
       "\"Robust leadingedge analyzer\"\n",
       "\"Future-proofed discrete initiative\"\n",
       "\"Progressive 24hour emulation\"\n",
       "\"Total maximized firmware\"\n",
       "\"Centralized zero-defect archive\"\n",
       "\"Centralized composite knowledgebase\""
      ]
     },
     "execution_count": 20,
     "metadata": {},
     "output_type": "execute_result"
    }
   ],
   "source": [
    "# Now lets get all the different products\n",
    "chdb.query(f\"SELECT DISTINCT product_name FROM {data_loc}\")"
   ]
  },
  {
   "cell_type": "code",
   "execution_count": null,
   "metadata": {},
   "outputs": [
    {
     "name": "stdout",
     "output_type": "stream",
     "text": [
      "Time taken: 7.154558897018433 seconds\n",
      "Sales by category in February 2025\n",
      "\"Books\",4818\n",
      "\"Sports\",13639\n",
      "\"Clothing\",9138\n",
      "\"Home & Garden\",4647\n",
      "\"Electronics\",14013\n",
      "\n"
     ]
    }
   ],
   "source": [
    "# Now lets get the sales in february by using a query\n",
    "\n",
    "start_time = time.time()\n",
    "result = chdb.query(f\"SELECT category, SUM(quantity_sold) as total_sales FROM {data_loc} where toMonth(event_time) = 2 GROUP BY category\")\n",
    "end_time = time.time()\n",
    "print(f\"Time taken: {end_time - start_time} seconds\")\n",
    "\n",
    "print(\"Sales by category in February 2025\")\n",
    "print(result)\n"
   ]
  },
  {
   "cell_type": "code",
   "execution_count": 22,
   "metadata": {},
   "outputs": [
    {
     "name": "stdout",
     "output_type": "stream",
     "text": [
      "Time taken: 0.4534158706665039 seconds\n",
      "Sales by category in February 2025\n",
      "\"Books\",4656\n",
      "\"Sports\",13164\n",
      "\"Clothing\",8788\n",
      "\"Home & Garden\",4456\n",
      "\"Electronics\",13563\n",
      "\n"
     ]
    }
   ],
   "source": [
    "# Lets get the sales in febrary by using globs\n",
    "data_dir = \"ecommerce_data/2025/02/**/*.json\"\n",
    "\n",
    "data_loc = f\"file('{data_dir}','JSONLines')\"\n",
    "\n",
    "start_time = time.time()\n",
    "result = chdb.query(f\"SELECT category, SUM(quantity_sold) as total_sales FROM {data_loc} GROUP BY category\")\n",
    "end_time = time.time()\n",
    "print(f\"Time taken: {end_time - start_time} seconds\")\n",
    "\n",
    "print(\"Sales by category in February 2025\")\n",
    "print(result)"
   ]
  },
  {
   "cell_type": "code",
   "execution_count": 33,
   "metadata": {},
   "outputs": [
    {
     "name": "stdout",
     "output_type": "stream",
     "text": [
      "Time taken: 2.282703161239624 seconds\n",
      "Sales by category in February 2025\n",
      "\"Electronics\",203292\n",
      "\n"
     ]
    }
   ],
   "source": [
    "# Lets get all the Electronics sales the inefficient way\n",
    "start_time = time.time()\n",
    "result = chdb.query(f\"SELECT category, SUM(quantity_sold) as total_sales FROM {data_loc} where category = 'Electronics' GROUP BY category\")\n",
    "end_time = time.time()\n",
    "print(f\"Time taken: {end_time - start_time} seconds\")\n",
    "\n",
    "print(\"Sales by category in February 2025\")\n",
    "print(result)"
   ]
  },
  {
   "cell_type": "code",
   "execution_count": 34,
   "metadata": {},
   "outputs": [
    {
     "name": "stdout",
     "output_type": "stream",
     "text": [
      "Time taken: 1.5381388664245605 seconds\n",
      "Sales by category in February 2025\n",
      "\"Electronics\",203292\n",
      "\n"
     ]
    }
   ],
   "source": [
    "# Lets get all the Electronics sales\n",
    "data_dir = \"ecommerce_data/*/*/*/*/electronics/*.json\"\n",
    "\n",
    "data_loc = f\"file('{data_dir}','JSONLines')\"\n",
    "\n",
    "start_time = time.time()\n",
    "result = chdb.query(f\"SELECT category, SUM(quantity_sold) as total_sales FROM {data_loc} GROUP BY category\")\n",
    "end_time = time.time()\n",
    "print(f\"Time taken: {end_time - start_time} seconds\")\n",
    "\n",
    "print(\"Sales by category in February 2025\")\n",
    "print(result)\n"
   ]
  }
 ],
 "metadata": {
  "kernelspec": {
   "display_name": ".venv",
   "language": "python",
   "name": "python3"
  },
  "language_info": {
   "codemirror_mode": {
    "name": "ipython",
    "version": 3
   },
   "file_extension": ".py",
   "mimetype": "text/x-python",
   "name": "python",
   "nbconvert_exporter": "python",
   "pygments_lexer": "ipython3",
   "version": "3.12.7"
  }
 },
 "nbformat": 4,
 "nbformat_minor": 2
}
