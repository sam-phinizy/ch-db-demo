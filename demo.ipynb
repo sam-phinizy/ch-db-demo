{
 "cells": [
  {
   "cell_type": "code",
   "execution_count": 75,
   "metadata": {},
   "outputs": [],
   "source": [
    "import chdb\n",
    "import time\n",
    "import os\n",
    "\n",
    "\n",
    "def get_directory_size_mb(directory):\n",
    "    \"\"\"\n",
    "    Get the total size of a directory and its contents in megabytes.\n",
    "    \n",
    "    Args:\n",
    "        directory (str): Path to the directory\n",
    "        \n",
    "    Returns:\n",
    "        float: Size of the directory in megabytes\n",
    "    \"\"\"\n",
    "    total_size = 0\n",
    "    \n",
    "    try:\n",
    "        # Walk through the directory\n",
    "        for root, dirs, files in os.walk(directory):\n",
    "            # Sum up the size of all files in current directory\n",
    "            for file in files:\n",
    "                file_path = os.path.join(root, file)\n",
    "                try:\n",
    "                    # Use os.path.getsize() to get file size\n",
    "                    total_size += os.path.getsize(file_path)\n",
    "                except (OSError, FileNotFoundError):\n",
    "                    # Handle cases where file can't be accessed\n",
    "                    print(f\"Could not access file: {file_path}\")\n",
    "                    continue\n",
    "                    \n",
    "    except PermissionError:\n",
    "        print(f\"Permission denied: Cannot access {directory}\")\n",
    "    except Exception as e:\n",
    "        print(f\"Error accessing {directory}: {e}\")\n",
    "    \n",
    "    # Convert bytes to megabytes and round to 2 decimal places\n",
    "    size_mb = round(total_size / (1024 * 1024), 2)\n",
    "    return size_mb\n",
    "\n",
    "def count_files(directory):\n",
    "    \"\"\"\n",
    "    Recursively count the number of files in a directory and its subdirectories.\n",
    "    \n",
    "    Args:\n",
    "        directory (str): Path to the directory to count files in\n",
    "        \n",
    "    Returns:\n",
    "        int: Total number of files found\n",
    "    \"\"\"\n",
    "    total_files = 0\n",
    "    \n",
    "    try:\n",
    "        # Iterate through all items in the directory\n",
    "        for item in os.scandir(directory):\n",
    "            if item.is_file():\n",
    "                # If it's a file, increment the counter\n",
    "                total_files += 1\n",
    "            elif item.is_dir():\n",
    "                # If it's a directory, recursively count files inside it\n",
    "                total_files += count_files(item.path)\n",
    "                \n",
    "    except PermissionError:\n",
    "        print(f\"Permission denied: Cannot access {directory}\")\n",
    "    except Exception as e:\n",
    "        print(f\"Error accessing {directory}: {e}\")\n",
    "        \n",
    "    return total_files\n",
    "\n",
    "def count_folders(directory):\n",
    "    \"\"\"\n",
    "    Recursively count the number of folders in a directory and its subdirectories.\n",
    "    \n",
    "    Args:\n",
    "        directory (str): Path to the directory to count folders in\n",
    "        \n",
    "    Returns:\n",
    "        int: Total number of folders found\n",
    "    \"\"\"\n",
    "    total_folders = 0\n",
    "    \n",
    "    try:\n",
    "        # Iterate through all items in the directory\n",
    "        for item in os.scandir(directory):\n",
    "            if item.is_dir():\n",
    "                # If it's a directory, increment counter and recursively count subdirectories\n",
    "                total_folders += 1\n",
    "                total_folders += count_folders(item.path)\n",
    "                \n",
    "    except PermissionError:\n",
    "        print(f\"Permission denied: Cannot access {directory}\")\n",
    "    except Exception as e:\n",
    "        print(f\"Error accessing {directory}: {e}\")\n",
    "        \n",
    "    return total_folders\n"
   ]
  },
  {
   "cell_type": "markdown",
   "metadata": {},
   "source": [
    "# Instructions\n",
    "1. Init project: `uv sync`\n",
    "2. Generate data: `uv run python generator.py`\n",
    "\n",
    "Generating 12 months of data will get you roughly 27,079,811 bytes (354.9 MB on disk) for 139,001 items in your `ecommerce_data` directory\n",
    "\n",
    "\n"
   ]
  },
  {
   "cell_type": "code",
   "execution_count": 76,
   "metadata": {},
   "outputs": [
    {
     "data": {
      "text/plain": [
       "\"event_time\",\"Nullable(DateTime)\"\n",
       "\"timestamp\",\"Nullable(DateTime)\"\n",
       "\"product_id\",\"Nullable(String)\"\n",
       "\"product_name\",\"Nullable(String)\"\n",
       "\"category\",\"Nullable(String)\"\n",
       "\"quantity_sold\",\"Nullable(Int64)\"\n",
       "\"unit_price\",\"Nullable(Float64)\"\n",
       "\"total_revenue\",\"Nullable(Float64)\"\n",
       "\"weekday\",\"Nullable(String)\"\n",
       "\"is_weekend\",\"Nullable(Bool)\"\n",
       "\"hour\",\"Nullable(Int64)\""
      ]
     },
     "execution_count": 76,
     "metadata": {},
     "output_type": "execute_result"
    }
   ],
   "source": [
    "data_dir = \"ecommerce_data/**/*.json\"\n",
    "\n",
    "data_loc = f\"file('{data_dir}','JSONLines')\"\n",
    "\n",
    "# This describes the data in the directory\n",
    "chdb.query(f\"DESCRIBE {data_loc} SETTINGS describe_compact_output=1\")\n",
    "\n"
   ]
  },
  {
   "cell_type": "code",
   "execution_count": null,
   "metadata": {},
   "outputs": [
    {
     "name": "stdout",
     "output_type": "stream",
     "text": [
      "Number of files in category_first/ecommerce_data/: 94100\n",
      "Number of folders in category_first/ecommerce_data/: 45205\n",
      "Total Number of files and folders:  139305\n",
      "Size of category_first/ecommerce_data/: 31.64\n"
     ]
    }
   ],
   "source": [
    "# Lets compare the size of data in each directory\n",
    "# Number of files in each directory recursively\n",
    "\n",
    "# Category First\n",
    "data_dir = \"category_first/ecommerce_data/\"\n",
    "\n",
    "num_files = count_files(data_dir)\n",
    "num_folders = count_folders(data_dir)\n",
    "size = get_directory_size_mb(data_dir)\n",
    "print(f\"Number of files in {data_dir}: {num_files}\")\n",
    "print(f\"Number of folders in {data_dir}: {num_folders}\")\n",
    "print(\"Total Number of files and folders: \", num_files + num_folders)\n",
    "print(f\"Size of {data_dir}: {size}\")\n",
    "\n",
    "# Category Last\n",
    "data_dir = \"ecommerce_data/\"\n",
    "\n",
    "num_files = count_files(data_dir)\n",
    "num_folders = count_folders(data_dir)\n",
    "size = get_directory_size_mb(data_dir)\n",
    "print(f\"Number of files in {data_dir}: {num_files}\")\n",
    "print(f\"Number of folders in {data_dir}: {num_folders}\")\n",
    "print(\"Total Number of files and folders: \", num_files + num_folders)\n",
    "print(f\"Size of {data_dir}: {size}\")\n",
    "\n",
    "\n",
    "\n"
   ]
  },
  {
   "cell_type": "code",
   "execution_count": 20,
   "metadata": {},
   "outputs": [
    {
     "data": {
      "text/plain": [
       "\"Secured responsive Graphical User Interface\"\n",
       "\"Down-sized didactic algorithm\"\n",
       "\"Configurable radical forecast\"\n",
       "\"Progressive user-facing analyzer\"\n",
       "\"Robust leadingedge analyzer\"\n",
       "\"Future-proofed discrete initiative\"\n",
       "\"Progressive 24hour emulation\"\n",
       "\"Total maximized firmware\"\n",
       "\"Centralized zero-defect archive\"\n",
       "\"Centralized composite knowledgebase\""
      ]
     },
     "execution_count": 20,
     "metadata": {},
     "output_type": "execute_result"
    }
   ],
   "source": [
    "# Now lets get all the different products\n",
    "chdb.query(f\"SELECT DISTINCT product_name FROM {data_loc}\")"
   ]
  },
  {
   "cell_type": "code",
   "execution_count": null,
   "metadata": {},
   "outputs": [
    {
     "name": "stdout",
     "output_type": "stream",
     "text": [
      "Time taken: 7.154558897018433 seconds\n",
      "Sales by category in February 2025\n",
      "\"Books\",4818\n",
      "\"Sports\",13639\n",
      "\"Clothing\",9138\n",
      "\"Home & Garden\",4647\n",
      "\"Electronics\",14013\n",
      "\n"
     ]
    }
   ],
   "source": [
    "# Now lets get the sales in february by using a query\n",
    "\n",
    "feb_time_query_start_time = time.time()\n",
    "result = chdb.query(f\"SELECT category, SUM(quantity_sold) as total_sales FROM {data_loc} where toMonth(event_time) = 2 GROUP BY category\")\n",
    "feb_time_query_end_time = time.time()\n",
    "feb_time_query_time = feb_time_query_end_time - feb_time_query_start_time\n",
    "print(f\"Time taken: {feb_time_query_time} seconds\")\n",
    "\n",
    "print(\"Sales by category in February 2025\")\n",
    "print(result)\n"
   ]
  },
  {
   "cell_type": "code",
   "execution_count": 22,
   "metadata": {},
   "outputs": [
    {
     "name": "stdout",
     "output_type": "stream",
     "text": [
      "Time taken: 0.4534158706665039 seconds\n",
      "Sales by category in February 2025\n",
      "\"Books\",4656\n",
      "\"Sports\",13164\n",
      "\"Clothing\",8788\n",
      "\"Home & Garden\",4456\n",
      "\"Electronics\",13563\n",
      "\n"
     ]
    }
   ],
   "source": [
    "# Lets get the sales in febrary by using globs\n",
    "data_dir = \"ecommerce_data/2025/02/**/*.json\"\n",
    "\n",
    "data_loc = f\"file('{data_dir}','JSONLines')\"\n",
    "\n",
    "feb_time_globs_start_time = time.time()\n",
    "result = chdb.query(f\"SELECT category, SUM(quantity_sold) as total_sales FROM {data_loc} GROUP BY category\")\n",
    "feb_time_globs_end_time = time.time()\n",
    "feb_time_globs_time = feb_time_globs_end_time - feb_time_globs_start_time\n",
    "print(f\"Time taken: {feb_time_globs_time} seconds\")\n",
    "\n",
    "print(\"Sales by category in February 2025\")\n",
    "print(result)"
   ]
  },
  {
   "cell_type": "code",
   "execution_count": 33,
   "metadata": {},
   "outputs": [
    {
     "name": "stdout",
     "output_type": "stream",
     "text": [
      "Time taken: 2.282703161239624 seconds\n",
      "Sales by category in February 2025\n",
      "\"Electronics\",203292\n",
      "\n"
     ]
    }
   ],
   "source": [
    "# Lets get all the Electronics sales the inefficient way\n",
    "all_1_cat_ineffecient_start_time = time.time()\n",
    "result = chdb.query(f\"SELECT category, SUM(quantity_sold) as total_sales FROM {data_loc} where category = 'Electronics' GROUP BY category\")\n",
    "all_1_cat_ineffecient_end_time = time.time()\n",
    "all_1_cat_ineffecient_time = all_1_cat_ineffecient_end_time - all_1_cat_ineffecient_start_time\n",
    "print(f\"Time taken: {all_1_cat_ineffecient_time} seconds\")\n",
    "\n",
    "print(\"Sales by category in February 2025\")\n",
    "print(result)"
   ]
  },
  {
   "cell_type": "code",
   "execution_count": null,
   "metadata": {},
   "outputs": [
    {
     "name": "stdout",
     "output_type": "stream",
     "text": [
      "Time taken: 3.3393590450286865 seconds\n",
      "Sales by category(electronics)\n",
      "\"Electronics\",203292\n",
      "\n"
     ]
    }
   ],
   "source": [
    "# Lets get all the Electronics sales\n",
    "data_dir = \"ecommerce_data/*/*/*/*/electronics/*.json\"\n",
    "\n",
    "data_loc = f\"file('{data_dir}','JSONLines')\"\n",
    "\n",
    "cat_last_start_time = time.time()\n",
    "result = chdb.query(f\"SELECT category, SUM(quantity_sold) as total_sales FROM {data_loc} GROUP BY category\")\n",
    "cat_last_end_time = time.time()\n",
    "cat_last_time = cat_last_end_time - cat_last_start_time\n",
    "print(f\"Time taken: {cat_last_time} seconds\")\n",
    "\n",
    "print(\"Sales by category(electronics)\")\n",
    "print(result)\n"
   ]
  },
  {
   "cell_type": "code",
   "execution_count": 54,
   "metadata": {},
   "outputs": [
    {
     "name": "stdout",
     "output_type": "stream",
     "text": [
      "Time taken: 3.314018249511719e-05 seconds\n",
      "Sales by category(electronics) in February 2025\n",
      "\"Books\",8574\n",
      "\"Sports\",9316\n",
      "\"Clothing\",13424\n",
      "\"Home & Garden\",26246\n",
      "\"Electronics\",31047\n",
      "\n"
     ]
    }
   ],
   "source": [
    "# Lets get all the sales by category for the month of february for category first\n",
    "data_dir = \"category_first/ecommerce_data/**/2025/02/**/*.json\"\n",
    "feb_cat_first_start_time = time.time()\n",
    "data_loc = f\"file('{data_dir}','JSONLines')\"\n",
    "feb_cat_first_end_time = time.time()\n",
    "feb_cat_first_time = feb_cat_first_end_time - feb_cat_first_start_time\n",
    "print(f\"Time taken: {feb_cat_first_time} seconds\")\n",
    "\n",
    "result = chdb.query(f\"SELECT category, SUM(quantity_sold) as total_sales FROM {data_loc} GROUP BY category\")\n",
    "\n",
    "print(\"Sales by category(electronics) in February 2025\")\n",
    "print(result)\n"
   ]
  },
  {
   "cell_type": "code",
   "execution_count": null,
   "metadata": {},
   "outputs": [
    {
     "name": "stdout",
     "output_type": "stream",
     "text": [
      "Time taken: 1.1165568828582764 seconds\n",
      "Sales by category(electronics) in February 2025\n",
      "\"Electronics\",203292\n",
      "\n",
      "Time taken: 1.3575620651245117 seconds\n",
      "Sales by category(sports) in February 2025\n",
      "\"Sports\",135597\n",
      "\n"
     ]
    }
   ],
   "source": [
    "# Lets compare with the category first\n",
    "data_dir =  \"category_first/ecommerce_data/electronics/**/*.json\"\n",
    "data_loc = f\"file('{data_dir}','JSONLines')\"\n",
    "\n",
    "cat_first_start_time = time.time()\n",
    "\n",
    "chdb.query(f\"SELECT category, SUM(quantity_sold) as total_sales FROM {data_loc} GROUP BY category\")\n",
    "cat_first_end_time = time.time()\n",
    "print(f\"Time taken: {cat_first_end_time - cat_first_start_time} seconds\")\n",
    "\n",
    "print(\"Sales by category(electronics) in February 2025\")\n",
    "print(result)\n",
    "\n",
    "\n",
    "sports_start_time = time.time()\n",
    "data_dir = \"category_first/ecommerce_data/sports/**/*.json\"\n",
    "data_loc = f\"file('{data_dir}','JSONLines')\"\n",
    "sports_result = chdb.query(f\"SELECT category, SUM(quantity_sold) as total_sales FROM {data_loc} GROUP BY category\")\n",
    "sports_end_time = time.time()\n",
    "print(f\"Time taken: {sports_end_time - sports_start_time} seconds\")\n",
    "\n",
    "print(\"Sales by category(sports) in February 2025\")\n",
    "print(sports_result)\n"
   ]
  },
  {
   "cell_type": "code",
   "execution_count": null,
   "metadata": {},
   "outputs": [],
   "source": []
  }
 ],
 "metadata": {
  "kernelspec": {
   "display_name": ".venv",
   "language": "python",
   "name": "python3"
  },
  "language_info": {
   "codemirror_mode": {
    "name": "ipython",
    "version": 3
   },
   "file_extension": ".py",
   "mimetype": "text/x-python",
   "name": "python",
   "nbconvert_exporter": "python",
   "pygments_lexer": "ipython3",
   "version": "3.12.7"
  }
 },
 "nbformat": 4,
 "nbformat_minor": 2
}
